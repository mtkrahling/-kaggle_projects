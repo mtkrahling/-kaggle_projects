{
  "nbformat": 4,
  "nbformat_minor": 0,
  "metadata": {
    "colab": {
      "provenance": [],
      "mount_file_id": "1UNDAJP6Jhpwg1eLhnZ2ZeOtPhDQsN84U",
      "authorship_tag": "ABX9TyOnkdV4Zbc/s2xD5jg8UgjO",
      "include_colab_link": true
    },
    "kernelspec": {
      "name": "python3",
      "display_name": "Python 3"
    },
    "language_info": {
      "name": "python"
    }
  },
  "cells": [
    {
      "cell_type": "markdown",
      "metadata": {
        "id": "view-in-github",
        "colab_type": "text"
      },
      "source": [
        "<a href=\"https://colab.research.google.com/github/mtkrahling/-kaggle_projects/blob/main/Titanic_v2.ipynb\" target=\"_parent\"><img src=\"https://colab.research.google.com/assets/colab-badge.svg\" alt=\"Open In Colab\"/></a>"
      ]
    },
    {
      "cell_type": "code",
      "execution_count": null,
      "metadata": {
        "id": "jPpAV8ojzCo3"
      },
      "outputs": [],
      "source": [
        "import pandas as pd\n",
        "import numpy as np\n",
        "from sklearn.ensemble import RandomForestClassifier\n",
        "import xgboost as xgb"
      ]
    },
    {
      "cell_type": "code",
      "source": [
        "train_data = pd.read_csv(\"train_data.csv\")"
      ],
      "metadata": {
        "colab": {
          "base_uri": "https://localhost:8080/"
        },
        "id": "qrOe4j8pzKG_",
        "outputId": "ebcb0a57-61e2-47f1-aba0-7a59448f22c4"
      },
      "execution_count": null,
      "outputs": [
        {
          "output_type": "execute_result",
          "data": {
            "text/plain": [
              "0      25.140620\n",
              "1      38.233441\n",
              "2      25.140620\n",
              "3      38.233441\n",
              "4      25.140620\n",
              "         ...    \n",
              "886    29.877630\n",
              "887    38.233441\n",
              "888    25.140620\n",
              "889    38.233441\n",
              "890    25.140620\n",
              "Name: Age, Length: 891, dtype: float64"
            ]
          },
          "metadata": {},
          "execution_count": 14
        }
      ]
    },
    {
      "cell_type": "code",
      "source": [
        "features = [\"Pclass\", \"Sex\",\"Fare\",\"Age\", \"Embarked\", \"SibSp\"]\n",
        "\n",
        "X = pd.get_dummies(train_data[features], dtype=int)\n",
        "y = train_data[\"Survived\"]\n",
        "group_means = train_data.groupby(\"Pclass\")[\"Age\"].transform('mean')\n",
        "fare_mean=train_data[\"Fare\"].mean()\n",
        "X['Age'].fillna(value=group_means, inplace=True)\n",
        "X.loc[X[\"Fare\"] <= 7.775, \"Fare\"] = 0\n",
        "X.loc[(X[\"Fare\"] > 7.775) & (X[\"Fare\"] <= 8.662), \"Fare\"] = 1\n",
        "X.loc[(X[\"Fare\"] > 8.662) & (X[\"Fare\"] <= 14.454), \"Fare\"] = 2\n",
        "X.loc[(X[\"Fare\"] > 14.454) & (X[\"Fare\"] <= 26), \"Fare\"] = 3\n",
        "X.loc[(X[\"Fare\"] > 26) & (X[\"Fare\"] <= 52.369), \"Fare\"] = 4\n",
        "X.loc[(X[\"Fare\"] > 52.369), \"Fare\"] = 5\n"
      ],
      "metadata": {
        "colab": {
          "base_uri": "https://localhost:8080/"
        },
        "id": "aqVOeTBdzOVq",
        "outputId": "04b5d610-bf13-4b8e-9ec5-6c45d1757b8d"
      },
      "execution_count": null,
      "outputs": [
        {
          "output_type": "execute_result",
          "data": {
            "text/plain": [
              "0      22.00000\n",
              "1      38.00000\n",
              "2      26.00000\n",
              "3      35.00000\n",
              "4      35.00000\n",
              "         ...   \n",
              "886    27.00000\n",
              "887    19.00000\n",
              "888    25.14062\n",
              "889    26.00000\n",
              "890    32.00000\n",
              "Name: Age, Length: 891, dtype: float64"
            ]
          },
          "metadata": {},
          "execution_count": 16
        }
      ]
    },
    {
      "cell_type": "code",
      "source": [
        "clf2 = RandomForestClassifier(n_estimators=50, max_depth=6, random_state=13)\n",
        "clf = xgb.XGBClassifier(n_estimators=100, max_depth=5, random_state=1)\n",
        "clf.fit(X,y)\n",
        "clf2.fit(X,y)\n",
        "\n",
        "test_data = pd.read_csv(\"test_data.csv\")\n",
        "X_test = test_data[features]\n",
        "X_test = pd.get_dummies(X_test[features], dtype=int)\n",
        "X_test['Age'].fillna(value=group_means, inplace=True)\n",
        "X_test['Fare'].fillna(value=fare_mean, inplace=True)\n",
        "X_test.loc[X_test[\"Fare\"] <= 7.775, \"Fare\"] = 0\n",
        "X_test.loc[(X_test[\"Fare\"] > 7.775) & (X_test[\"Fare\"] <= 8.662), \"Fare\"] = 1\n",
        "X_test.loc[(X_test[\"Fare\"] > 8.662) & (X_test[\"Fare\"] <= 14.454), \"Fare\"] = 2\n",
        "X_test.loc[(X_test[\"Fare\"] > 14.454) & (X_test[\"Fare\"] <= 26), \"Fare\"] = 3\n",
        "X_test.loc[(X_test[\"Fare\"] > 26) & (X_test[\"Fare\"] <= 52.369), \"Fare\"] = 4\n",
        "X_test.loc[(X_test[\"Fare\"] > 52.369), \"Fare\"] = 5\n",
        "X_test.info()"
      ],
      "metadata": {
        "colab": {
          "base_uri": "https://localhost:8080/"
        },
        "id": "lBZ3VnP4z8eC",
        "outputId": "8528417d-b7e8-4495-a349-f9afd94fdee1"
      },
      "execution_count": null,
      "outputs": [
        {
          "output_type": "stream",
          "name": "stdout",
          "text": [
            "<class 'pandas.core.frame.DataFrame'>\n",
            "RangeIndex: 418 entries, 0 to 417\n",
            "Data columns (total 9 columns):\n",
            " #   Column      Non-Null Count  Dtype  \n",
            "---  ------      --------------  -----  \n",
            " 0   Pclass      418 non-null    int64  \n",
            " 1   Fare        418 non-null    float64\n",
            " 2   Age         418 non-null    float64\n",
            " 3   SibSp       418 non-null    int64  \n",
            " 4   Sex_female  418 non-null    int64  \n",
            " 5   Sex_male    418 non-null    int64  \n",
            " 6   Embarked_C  418 non-null    int64  \n",
            " 7   Embarked_Q  418 non-null    int64  \n",
            " 8   Embarked_S  418 non-null    int64  \n",
            "dtypes: float64(2), int64(7)\n",
            "memory usage: 29.5 KB\n"
          ]
        }
      ]
    },
    {
      "cell_type": "code",
      "source": [
        "y_preds = clf2.predict(X_test)\n",
        "\n",
        "y_preds_series = pd.Series(y_preds, index=test_data.index, name=\"Survived\")\n",
        "vegso_df = pd.concat([test_data,y_preds_series], axis=1)\n",
        "vegso_df = vegso_df[[\"PassengerId\", \"Survived\"]]\n",
        "vegso_df\n",
        "vegso_df.to_csv(\"/content/drive/MyDrive/final10.csv\", index=False)"
      ],
      "metadata": {
        "id": "YE8shxul1doU"
      },
      "execution_count": null,
      "outputs": []
    }
  ]
}